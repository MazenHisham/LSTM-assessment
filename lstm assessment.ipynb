{
  "nbformat": 4,
  "nbformat_minor": 0,
  "metadata": {
    "colab": {
      "provenance": []
    },
    "kernelspec": {
      "name": "python3",
      "display_name": "Python 3"
    },
    "language_info": {
      "name": "python"
    }
  },
  "cells": [
    {
      "cell_type": "code",
      "source": [
        "import math"
      ],
      "metadata": {
        "id": "zapHQuykWfN6"
      },
      "execution_count": null,
      "outputs": []
    },
    {
      "cell_type": "code",
      "source": [
        "def sigmoid(x):\n",
        "    return 1 / (1 + math.exp(-x))"
      ],
      "metadata": {
        "id": "lOVkHuFWWfEK"
      },
      "execution_count": null,
      "outputs": []
    },
    {
      "cell_type": "code",
      "execution_count": null,
      "metadata": {
        "colab": {
          "base_uri": "https://localhost:8080/"
        },
        "id": "-VgeG7sjGVEE",
        "outputId": "9405f086-5156-4a67-a17c-4bf56dd7d0e2"
      },
      "outputs": [
        {
          "output_type": "stream",
          "name": "stdout",
          "text": [
            "Time Step 1 (x=1):\n",
            "  Forget gate: 0.622\n",
            "  Input gate: 0.646\n",
            "  Candidate cell state: 0.604\n",
            "  Cell state: 0.390\n",
            "  Output gate: 0.690\n",
            "  Hidden state: 0.256\n",
            "\n",
            "Time Step 2 (x=2):\n",
            "  Forget gate: 0.736\n",
            "  Input gate: 0.778\n",
            "  Candidate cell state: 0.901\n",
            "  Cell state: 0.988\n",
            "  Output gate: 0.846\n",
            "  Hidden state: 0.640\n",
            "\n",
            "Time Step 3 (x=3):\n",
            "  Forget gate: 0.827\n",
            "  Input gate: 0.873\n",
            "  Candidate cell state: 0.980\n",
            "  Cell state: 1.672\n",
            "  Output gate: 0.934\n",
            "  Hidden state: 0.871\n",
            "\n",
            "Time Step 4 (x=4):\n",
            "  Forget gate: 0.890\n",
            "  Input gate: 0.929\n",
            "  Candidate cell state: 0.996\n",
            "  Cell state: 2.413\n",
            "  Output gate: 0.972\n",
            "  Hidden state: 0.957\n",
            "\n",
            "Final Prediction: 3.826\n"
          ]
        }
      ],
      "source": [
        "def main():\n",
        "\n",
        "    Wf, Whf, bf = 0.5, 0.1, 0\n",
        "    Wi, Whi, bi = 0.6, 0.2, 0\n",
        "    Wc, Whc, bc = 0.7, 0.3, 0\n",
        "    Wo, Who, bo = 0.8, 0.4, 0\n",
        "    Wy, by = 4, 0\n",
        "\n",
        "    h_prev = 0.0\n",
        "    C_prev = 0.0\n",
        "\n",
        "    inputs = [1, 2, 3, 4]\n",
        "\n",
        "    for t in range(len(inputs)):\n",
        "        x = inputs[t]\n",
        "\n",
        "        f = sigmoid(Wf * x + Whf * h_prev + bf)\n",
        "\n",
        "        i = sigmoid(Wi * x + Whi * h_prev + bi)\n",
        "\n",
        "        C_tilde = math.tanh(Wc * x + Whc * h_prev + bc)\n",
        "\n",
        "        C = f * C_prev + i * C_tilde\n",
        "\n",
        "        o = sigmoid(Wo * x + Who * h_prev + bo)\n",
        "\n",
        "        h = o * math.tanh(C)\n",
        "\n",
        "        print(f\"Time Step {t+1} (x={x}):\")\n",
        "        print(f\"  Forget gate: {f:.3f}\")\n",
        "        print(f\"  Input gate: {i:.3f}\")\n",
        "        print(f\"  Candidate cell state: {C_tilde:.3f}\")\n",
        "        print(f\"  Cell state: {C:.3f}\")\n",
        "        print(f\"  Output gate: {o:.3f}\")\n",
        "        print(f\"  Hidden state: {h:.3f}\\n\")\n",
        "\n",
        "        h_prev, C_prev = h, C\n",
        "\n",
        "    y_pred = Wy * h_prev + by\n",
        "    print(f\"Final Prediction: {y_pred:.3f}\")\n",
        "\n",
        "if __name__ == \"__main__\":\n",
        "    main()"
      ]
    }
  ]
}